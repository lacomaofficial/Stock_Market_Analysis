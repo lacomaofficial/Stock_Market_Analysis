{
 "cells": [
  {
   "cell_type": "code",
   "execution_count": 64,
   "metadata": {},
   "outputs": [],
   "source": [
    "# LIBRARIES\n",
    "\n",
    "import pandas as pd\n",
    "import numpy as np\n",
    "import yfinance as yf\n",
    "import matplotlib.pyplot as plt\n",
    "import plotly.graph_objects as go"
   ]
  },
  {
   "cell_type": "code",
   "execution_count": 133,
   "metadata": {},
   "outputs": [],
   "source": [
    "# FUNCTIONS\n",
    "\n",
    "def calculate_sma(df, window):\n",
    "    return df['Close'].rolling(window=window).mean()\n",
    "\n",
    "def calculate_macd(df):\n",
    "    short_ema = df['Close'].ewm(span=12, adjust=False).mean()\n",
    "    long_ema = df['Close'].ewm(span=26, adjust=False).mean()\n",
    "    macd = short_ema - long_ema\n",
    "    signal = macd.ewm(span=9, adjust=False).mean()\n",
    "    return macd, signal\n",
    "\n",
    "def calculate_rsi(df):\n",
    "    delta = df['Close'].diff()\n",
    "    gain = (delta.where(delta > 0, 0)).rolling(window=14).mean()\n",
    "    loss = (-delta.where(delta < 0, 0)).rolling(window=14).mean()\n",
    "    rs = gain / loss\n",
    "    rsi = 100 - (100 / (1 + rs))\n",
    "    return rsi\n",
    "\n",
    "def calculate_bollinger_bands(df):\n",
    "    middle_bb = df['Close'].rolling(window=20).mean()\n",
    "    upper_bb = middle_bb + 2 * df['Close'].rolling(window=20).std()\n",
    "    lower_bb = middle_bb - 2 * df['Close'].rolling(window=20).std()\n",
    "    return middle_bb, upper_bb, lower_bb\n",
    "\n",
    "def calculate_stochastic_oscillator(df):\n",
    "    lowest_low = df['Low'].rolling(window=14).min()\n",
    "    highest_high = df['High'].rolling(window=14).max()\n",
    "    slowk = ((df['Close'] - lowest_low) / (highest_high - lowest_low)) * 100\n",
    "    slowd = slowk.rolling(window=3).mean()\n",
    "    return slowk, slowd\n",
    "\n",
    "def generate_trading_signals(df):\n",
    "\n",
    "    # Calculate Simple Moving Averages (SMA)\n",
    "    df['SMA_50'] = calculate_sma(df, 50)\n",
    "    df['SMA_200'] = calculate_sma(df, 200)\n",
    "\n",
    "    # Calculate other technical indicators\n",
    "    df['RSI'] = calculate_rsi(df)\n",
    "    df['MiddleBB'], df['UpperBB'], df['LowerBB'] = calculate_bollinger_bands(df)\n",
    "    df['SlowK'], df['SlowD'] = calculate_stochastic_oscillator(df)\n",
    "\n",
    "    # Generate trading signals\n",
    "\n",
    "    df['SMA_Signal'] = np.where(df['SMA_50'] > df['SMA_200'], 1, 0)\n",
    "    \n",
    "    macd, signal = calculate_macd(df)\n",
    "    df['MACD_Signal'] = np.where((macd > signal.shift(1)) & (macd.shift(1) < signal), 1, 0)\n",
    "    \n",
    "    df['RSI_Signal'] = np.where(df['RSI'] < 30, 1, 0)\n",
    "    df['RSI_Signal'] = np.where(df['RSI'] > 70, -1, df['RSI_Signal'])\n",
    "    \n",
    "    df['BB_Signal'] = np.where(df['Close'] < df['LowerBB'], 1, 0)\n",
    "    df['BB_Signal'] = np.where(df['Close'] > df['UpperBB'], -1, df['BB_Signal'])\n",
    "    \n",
    "    df['Stochastic_Signal'] = np.where((df['SlowK'] < 20) & (df['SlowD'] < 20), 1, 0)\n",
    "    df['Stochastic_Signal'] = np.where((df['SlowK'] > 80) & (df['SlowD'] > 80), -1, df['Stochastic_Signal'])\n",
    "\n",
    "    # Summing the values of each individual signal column\n",
    "    df['Combined_Signal'] = df[['SMA_Signal', 'MACD_Signal', 'RSI_Signal', 'BB_Signal', 'Stochastic_Signal']].sum(axis=1)\n",
    "\n",
    "def plot_trading_signals(df):\n",
    "    # Create subplots\n",
    "    fig, axes = plt.subplots(nrows=1, ncols=2, figsize=(25, 5 ), sharex=True)\n",
    "\n",
    "    # Plotting Closing Prices\n",
    "    axes[0].plot(df_last['Close'], label='Closing Price', color='purple')\n",
    "    axes[0].set_ylabel('Price')\n",
    "    axes[0].set_title('Stock Price')\n",
    "    axes[0].legend()\n",
    "\n",
    "\n",
    "    # Plotting Combined Signal\n",
    "    axes[1].plot(df_last.index, df_last['Combined_Signal'], label='Combined Signal', color='yellow', linewidth=1.5)\n",
    "    axes[1].set_ylabel('Combined Signal')\n",
    "    axes[1].set_title('Combined Signal')\n",
    "    axes[1].legend()\n",
    "\n",
    "    plt.xlabel('Date')\n",
    "    plt.legend()\n",
    "    plt.grid(True)\n",
    "    plt.show()\n",
    "\n",
    "def plot_combined_signals(df):\n",
    "    \n",
    "    # Create a figure\n",
    "    fig = go.Figure()\n",
    "\n",
    "    # Add close price trace\n",
    "    fig.add_trace(go.Scatter(\n",
    "        x=df_last_month.index, y=df_last_month['Close'], \n",
    "        mode='lines', \n",
    "        name='Closing Price', \n",
    "        line=dict(color='lightcoral', width=2)\n",
    "    ))\n",
    "\n",
    "    # Add buy signals\n",
    "    buy_signals = df_last_month[df_last_month['Combined_Signal'] >= 2]\n",
    "    fig.add_trace(go.Scatter(\n",
    "        x=buy_signals.index, y=buy_signals['Close'], \n",
    "        mode='markers', \n",
    "        marker=dict(symbol='triangle-up', size=10, color='lightgreen'), \n",
    "        name='Buy Signal'\n",
    "    ))\n",
    "\n",
    "    # Add sell signals\n",
    "    sell_signals = df_last_month[df_last_month['Combined_Signal'] <= -2]\n",
    "    fig.add_trace(go.Scatter(\n",
    "        x=sell_signals.index, y=sell_signals['Close'], \n",
    "        mode='markers', \n",
    "        marker=dict(symbol='triangle-down', size=10, color='lightsalmon'), \n",
    "        name='Sell Signal'\n",
    "    ))\n",
    "\n",
    "    # Add combined signal trace\n",
    "    fig.add_trace(go.Scatter(\n",
    "        x=df_last_month.index, y=df_last_month['Combined_Signal'], \n",
    "        mode='lines', \n",
    "        name='Combined Signal', \n",
    "        line=dict(color='deepskyblue', width=2), \n",
    "        yaxis='y2'\n",
    "    ))\n",
    "\n",
    "    # Update layout for secondary y-axis\n",
    "    fig.update_layout(\n",
    "        title=f'{ticker}: Stock Price and Combined Trading Signal (Last Month)',\n",
    "        xaxis=dict(title='Date', gridcolor='gray', gridwidth=0.5),\n",
    "        yaxis=dict(title='Price', side='left', gridcolor='gray', gridwidth=0.5),\n",
    "        yaxis2=dict(title='Combined Signal', overlaying='y', side='right', showgrid=False),\n",
    "        plot_bgcolor='black',\n",
    "        paper_bgcolor='black',\n",
    "        font=dict(color='white'),\n",
    "        legend=dict(x=0.01, y=0.99, bgcolor='rgba(0,0,0,0)'),\n",
    "        hovermode='x unified'\n",
    "    )\n",
    "\n",
    "    fig.show()\n",
    "\n",
    "\n",
    "def calculate_short_term_indicators(df):\n",
    "    # Compute MACD\n",
    "    def calculate_macd(df):\n",
    "        short_ema = df['Close'].ewm(span=12, adjust=False).mean()\n",
    "        long_ema = df['Close'].ewm(span=26, adjust=False).mean()\n",
    "        macd_line = short_ema - long_ema\n",
    "        signal_line = macd_line.ewm(span=9, adjust=False).mean()\n",
    "        histogram = macd_line - signal_line\n",
    "        return macd_line, signal_line, histogram\n",
    "\n",
    "    # Compute ATR\n",
    "    def calculate_atr(df, period=14):\n",
    "        high_low = df['High'] - df['Low']\n",
    "        high_close = np.abs(df['High'] - df['Close'].shift(1))\n",
    "        low_close = np.abs(df['Low'] - df['Close'].shift(1))\n",
    "        true_range = pd.concat([high_low, high_close, low_close], axis=1).max(axis=1)\n",
    "        atr = true_range.rolling(window=period).mean()\n",
    "        return atr\n",
    "\n",
    "    # Compute OBV\n",
    "    def calculate_obv(df):\n",
    "        obv = np.where(df['Close'] > df['Close'].shift(1), df['Volume'], \n",
    "                       np.where(df['Close'] < df['Close'].shift(1), -df['Volume'], 0)).cumsum()\n",
    "        return pd.DataFrame(obv, index=df.index, columns=['OBV'])\n",
    "\n",
    "    # Compute all indicators\n",
    "    macd_line, signal_line, histogram = calculate_macd(df)\n",
    "    atr = calculate_atr(df)\n",
    "    obv = calculate_obv(df)\n",
    "\n",
    "    # Create signals\n",
    "    df['MACD_Signal'] = np.where(macd_line > signal_line, 1, 0)  # Bullish when MACD line crosses above signal line\n",
    "    df['ATR_Signal'] = np.where(df['Close'] > df['Close'].shift(1) + atr, 1, 0)  # Bullish when close > previous close + ATR\n",
    "    df['OBV_Signal'] = np.where(obv['OBV'] > obv['OBV'].shift(1), 1, 0)  # Bullish when OBV is increasing\n",
    "    \n",
    "    df.dropna(inplace=True)\n",
    "    \n",
    "    # Summing the values of each individual signal column\n",
    "    df['Short Term'] = df[['MACD_Signal', 'ATR_Signal', 'OBV_Signal']].sum(axis=1)\n",
    "\n",
    "    # Drop unnecessary columns\n",
    "    df = df.drop(columns=['Open', 'High', 'Low','Adj Close', 'Volume', 'SMA_50',\n",
    "       'SMA_200', 'RSI', 'MiddleBB', 'UpperBB', 'LowerBB', 'SlowK', 'SlowD',\n",
    "       'SMA_Signal', 'RSI_Signal', 'BB_Signal',\n",
    "       'Stochastic_Signal','MACD_Signal', 'ATR_Signal', 'OBV_Signal'])     \n",
    "    \n",
    "    # Rename the column\n",
    "    df.rename(columns={'Combined_Signal': 'Long Term'}, inplace=True)\n",
    "\n",
    "    # Reorder the columns\n",
    "    df = df[['Close','Long Term', 'Short Term', ]]\n",
    "\n",
    "    \n",
    "\n",
    "    return df\n",
    "\n",
    "\n",
    "def compare_signals(df):\n",
    "    # Create subplots\n",
    "    fig, axes = plt.subplots(nrows=1, ncols=2, figsize=(25, 5), sharex=True)\n",
    "\n",
    "    # Plotting Closing Prices\n",
    "    axes[0].plot(df.index, df['Close'], label='Closing Price', color='purple')\n",
    "    axes[0].set_ylabel('Price')\n",
    "    axes[0].set_title('Stock Price')\n",
    "    axes[0].legend()\n",
    "\n",
    "    # Plotting Long Term and Short Term signals\n",
    "    axes[1].plot(df.index, df['Long Term'], label='Long Term', marker='o', linestyle='-', color='green')\n",
    "    axes[1].plot(df.index, df['Short Term'], label='Short Term', marker='o', linestyle='-', color='red')\n",
    "    axes[1].set_ylabel('Signal')\n",
    "    axes[1].set_title('Long Term vs Short Term Signals')\n",
    "    axes[1].legend()\n",
    "\n",
    "    plt.xlabel('Date')\n",
    "    plt.grid(True)\n",
    "    plt.show()\n",
    "\n"
   ]
  },
  {
   "cell_type": "code",
   "execution_count": 66,
   "metadata": {},
   "outputs": [
    {
     "name": "stderr",
     "output_type": "stream",
     "text": [
      "[*********************100%%**********************]  1 of 1 completed\n"
     ]
    }
   ],
   "source": [
    "# STOCK MARKET DATA\n",
    "\n",
    "ticker = 'NVDA'  \n",
    "df = yf.download(ticker, start='2022-01-01', end='2025-01-01')"
   ]
  },
  {
   "cell_type": "code",
   "execution_count": 70,
   "metadata": {},
   "outputs": [],
   "source": [
    "# Generate trading signals\n",
    "generate_trading_signals(df)\n",
    "\n"
   ]
  },
  {
   "cell_type": "code",
   "execution_count": 73,
   "metadata": {},
   "outputs": [
    {
     "data": {
      "text/html": [
       "<div>\n",
       "<style scoped>\n",
       "    .dataframe tbody tr th:only-of-type {\n",
       "        vertical-align: middle;\n",
       "    }\n",
       "\n",
       "    .dataframe tbody tr th {\n",
       "        vertical-align: top;\n",
       "    }\n",
       "\n",
       "    .dataframe thead th {\n",
       "        text-align: right;\n",
       "    }\n",
       "</style>\n",
       "<table border=\"1\" class=\"dataframe\">\n",
       "  <thead>\n",
       "    <tr style=\"text-align: right;\">\n",
       "      <th></th>\n",
       "      <th>Close</th>\n",
       "      <th>Combined_Signal</th>\n",
       "      <th>Stochastic_Signal</th>\n",
       "    </tr>\n",
       "    <tr>\n",
       "      <th>Date</th>\n",
       "      <th></th>\n",
       "      <th></th>\n",
       "      <th></th>\n",
       "    </tr>\n",
       "  </thead>\n",
       "  <tbody>\n",
       "    <tr>\n",
       "      <th>2024-05-03</th>\n",
       "      <td>887.890015</td>\n",
       "      <td>1</td>\n",
       "      <td>0</td>\n",
       "    </tr>\n",
       "    <tr>\n",
       "      <th>2024-05-09</th>\n",
       "      <td>887.469971</td>\n",
       "      <td>1</td>\n",
       "      <td>0</td>\n",
       "    </tr>\n",
       "    <tr>\n",
       "      <th>2024-05-14</th>\n",
       "      <td>913.559998</td>\n",
       "      <td>-1</td>\n",
       "      <td>-1</td>\n",
       "    </tr>\n",
       "    <tr>\n",
       "      <th>2024-05-15</th>\n",
       "      <td>946.299988</td>\n",
       "      <td>-1</td>\n",
       "      <td>-1</td>\n",
       "    </tr>\n",
       "    <tr>\n",
       "      <th>2024-05-17</th>\n",
       "      <td>924.789978</td>\n",
       "      <td>1</td>\n",
       "      <td>0</td>\n",
       "    </tr>\n",
       "  </tbody>\n",
       "</table>\n",
       "</div>"
      ],
      "text/plain": [
       "                 Close  Combined_Signal  Stochastic_Signal\n",
       "Date                                                      \n",
       "2024-05-03  887.890015                1                  0\n",
       "2024-05-09  887.469971                1                  0\n",
       "2024-05-14  913.559998               -1                 -1\n",
       "2024-05-15  946.299988               -1                 -1\n",
       "2024-05-17  924.789978                1                  0"
      ]
     },
     "execution_count": 73,
     "metadata": {},
     "output_type": "execute_result"
    }
   ],
   "source": [
    "# Last month trading signals\n",
    "\n",
    "# Step 1: Select the last 30 days\n",
    "last_30_days = df[['Close', 'Combined_Signal','Stochastic_Signal']].tail(30)\n",
    "\n",
    "# Step 2: Apply the Boolean condition to filter rows where 'Combined_Signal' is not 0\n",
    "filtered_days = last_30_days[last_30_days['Combined_Signal'] != 0]\n",
    "\n",
    "# Display the filtered rows\n",
    "filtered_days.tail(5)\n"
   ]
  },
  {
   "cell_type": "code",
   "execution_count": 137,
   "metadata": {},
   "outputs": [
    {
     "data": {
      "image/png": "[encoded data removed]",
      "text/plain": [
       "<Figure size 2500x500 with 2 Axes>"
      ]
     },
     "metadata": {},
     "output_type": "display_data"
    }
   ],
   "source": [
    "# Trading Signals Graph\n",
    "\n",
    "plot_trading_signals(df.tail(60))"
   ]
  },
  {
   "cell_type": "code",
   "execution_count": 138,
   "metadata": {},
   "outputs": [
    {
     "data": {
      "application/vnd.plotly.v1+json": {
       "config": {
        "plotlyServerURL": "https://plot.ly"
       },
       "data": [
        {
         "line": {
          "color": "lightcoral",
          "width": 2
         },
         "mode": "lines",
         "name": "Closing Price",
         "type": "scatter",
         "x": [
          "2024-04-08T00:00:00",
          "2024-04-09T00:00:00",
          "2024-04-10T00:00:00",
          "2024-04-11T00:00:00",
          "2024-04-12T00:00:00",
          "2024-04-15T00:00:00",
          "2024-04-16T00:00:00",
          "2024-04-17T00:00:00",
          "2024-04-18T00:00:00",
          "2024-04-19T00:00:00",
          "2024-04-22T00:00:00",
          "2024-04-23T00:00:00",
          "2024-04-24T00:00:00",
          "2024-04-25T00:00:00",
          "2024-04-26T00:00:00",
          "2024-04-29T00:00:00",
          "2024-04-30T00:00:00",
          "2024-05-01T00:00:00",
          "2024-05-02T00:00:00",
          "2024-05-03T00:00:00",
          "2024-05-06T00:00:00",
          "2024-05-07T00:00:00",
          "2024-05-08T00:00:00",
          "2024-05-09T00:00:00",
          "2024-05-10T00:00:00",
          "2024-05-13T00:00:00",
          "2024-05-14T00:00:00",
          "2024-05-15T00:00:00",
          "2024-05-16T00:00:00",
          "2024-05-17T00:00:00"
         ],
         "y": [
          871.3300170898438,
          853.5399780273438,
          870.3900146484375,
          906.1599731445312,
          881.8599853515625,
          860.010009765625,
          874.1500244140625,
          840.3499755859375,
          846.7100219726562,
          762,
          795.1799926757812,
          824.22998046875,
          796.77001953125,
          826.3200073242188,
          877.3499755859375,
          877.5700073242188,
          864.02001953125,
          830.4099731445312,
          858.1699829101562,
          887.8900146484375,
          921.4000244140625,
          905.5399780273438,
          904.1199951171875,
          887.469970703125,
          898.780029296875,
          903.989990234375,
          913.5599975585938,
          946.2999877929688,
          943.5900268554688,
          924.7899780273438
         ]
        },
        {
         "marker": {
          "color": "lightgreen",
          "size": 10,
          "symbol": "triangle-up"
         },
         "mode": "markers",
         "name": "Buy Signal",
         "type": "scatter",
         "x": [
          "2024-04-08T00:00:00",
          "2024-04-19T00:00:00",
          "2024-04-30T00:00:00",
          "2024-05-02T00:00:00"
         ],
         "y": [
          871.3300170898438,
          762,
          864.02001953125,
          858.1699829101562
         ]
        },
        {
         "marker": {
          "color": "lightsalmon",
          "size": 10,
          "symbol": "triangle-down"
         },
         "mode": "markers",
         "name": "Sell Signal",
         "type": "scatter",
         "x": [],
         "y": []
        },
        {
         "line": {
          "color": "deepskyblue",
          "width": 2
         },
         "mode": "lines",
         "name": "Combined Signal",
         "type": "scatter",
         "x": [
          "2024-04-08T00:00:00",
          "2024-04-09T00:00:00",
          "2024-04-10T00:00:00",
          "2024-04-11T00:00:00",
          "2024-04-12T00:00:00",
          "2024-04-15T00:00:00",
          "2024-04-16T00:00:00",
          "2024-04-17T00:00:00",
          "2024-04-18T00:00:00",
          "2024-04-19T00:00:00",
          "2024-04-22T00:00:00",
          "2024-04-23T00:00:00",
          "2024-04-24T00:00:00",
          "2024-04-25T00:00:00",
          "2024-04-26T00:00:00",
          "2024-04-29T00:00:00",
          "2024-04-30T00:00:00",
          "2024-05-01T00:00:00",
          "2024-05-02T00:00:00",
          "2024-05-03T00:00:00",
          "2024-05-06T00:00:00",
          "2024-05-07T00:00:00",
          "2024-05-08T00:00:00",
          "2024-05-09T00:00:00",
          "2024-05-10T00:00:00",
          "2024-05-13T00:00:00",
          "2024-05-14T00:00:00",
          "2024-05-15T00:00:00",
          "2024-05-16T00:00:00",
          "2024-05-17T00:00:00"
         ],
         "y": [
          2,
          1,
          1,
          1,
          1,
          1,
          1,
          1,
          1,
          4,
          1,
          1,
          1,
          1,
          1,
          1,
          2,
          1,
          2,
          1,
          0,
          0,
          0,
          1,
          0,
          0,
          -1,
          -1,
          0,
          1
         ],
         "yaxis": "y2"
        }
       ],
       "layout": {
        "font": {
         "color": "white"
        },
        "hovermode": "x unified",
        "legend": {
         "bgcolor": "rgba(0,0,0,0)",
         "x": 0.01,
         "y": 0.99
        },
        "paper_bgcolor": "black",
        "plot_bgcolor": "black",
        "template": {
         "data": {
          "bar": [
           {
            "error_x": {
             "color": "#2a3f5f"
            },
            "error_y": {
             "color": "#2a3f5f"
            },
            "marker": {
             "line": {
              "color": "#E5ECF6",
              "width": 0.5
             },
             "pattern": {
              "fillmode": "overlay",
              "size": 10,
              "solidity": 0.2
             }
            },
            "type": "bar"
           }
          ],
          "barpolar": [
           {
            "marker": {
             "line": {
              "color": "#E5ECF6",
              "width": 0.5
             },
             "pattern": {
              "fillmode": "overlay",
              "size": 10,
              "solidity": 0.2
             }
            },
            "type": "barpolar"
           }
          ],
          "carpet": [
           {
            "aaxis": {
             "endlinecolor": "#2a3f5f",
             "gridcolor": "white",
             "linecolor": "white",
             "minorgridcolor": "white",
             "startlinecolor": "#2a3f5f"
            },
            "baxis": {
             "endlinecolor": "#2a3f5f",
             "gridcolor": "white",
             "linecolor": "white",
             "minorgridcolor": "white",
             "startlinecolor": "#2a3f5f"
            },
            "type": "carpet"
           }
          ],
          "choropleth": [
           {
            "colorbar": {
             "outlinewidth": 0,
             "ticks": ""
            },
            "type": "choropleth"
           }
          ],
          "contour": [
           {
            "colorbar": {
             "outlinewidth": 0,
             "ticks": ""
            },
            "colorscale": [
             [
              0,
              "#0d0887"
             ],
             [
              0.1111111111111111,
              "#46039f"
             ],
             [
              0.2222222222222222,
              "#7201a8"
             ],
             [
              0.3333333333333333,
              "#9c179e"
             ],
             [
              0.4444444444444444,
              "#bd3786"
             ],
             [
              0.5555555555555556,
              "#d8576b"
             ],
             [
              0.6666666666666666,
              "#ed7953"
             ],
             [
              0.7777777777777778,
              "#fb9f3a"
             ],
             [
              0.8888888888888888,
              "#fdca26"
             ],
             [
              1,
              "#f0f921"
             ]
            ],
            "type": "contour"
           }
          ],
          "contourcarpet": [
           {
            "colorbar": {
             "outlinewidth": 0,
             "ticks": ""
            },
            "type": "contourcarpet"
           }
          ],
          "heatmap": [
           {
            "colorbar": {
             "outlinewidth": 0,
             "ticks": ""
            },
            "colorscale": [
             [
              0,
              "#0d0887"
             ],
             [
              0.1111111111111111,
              "#46039f"
             ],
             [
              0.2222222222222222,
              "#7201a8"
             ],
             [
              0.3333333333333333,
              "#9c179e"
             ],
             [
              0.4444444444444444,
              "#bd3786"
             ],
             [
              0.5555555555555556,
              "#d8576b"
             ],
             [
              0.6666666666666666,
              "#ed7953"
             ],
             [
              0.7777777777777778,
              "#fb9f3a"
             ],
             [
              0.8888888888888888,
              "#fdca26"
             ],
             [
              1,
              "#f0f921"
             ]
            ],
            "type": "heatmap"
           }
          ],
          "heatmapgl": [
           {
            "colorbar": {
             "outlinewidth": 0,
             "ticks": ""
            },
            "colorscale": [
             [
              0,
              "#0d0887"
             ],
             [
              0.1111111111111111,
              "#46039f"
             ],
             [
              0.2222222222222222,
              "#7201a8"
             ],
             [
              0.3333333333333333,
              "#9c179e"
             ],
             [
              0.4444444444444444,
              "#bd3786"
             ],
             [
              0.5555555555555556,
              "#d8576b"
             ],
             [
              0.6666666666666666,
              "#ed7953"
             ],
             [
              0.7777777777777778,
              "#fb9f3a"
             ],
             [
              0.8888888888888888,
              "#fdca26"
             ],
             [
              1,
              "#f0f921"
             ]
            ],
            "type": "heatmapgl"
           }
          ],
          "histogram": [
           {
            "marker": {
             "pattern": {
              "fillmode": "overlay",
              "size": 10,
              "solidity": 0.2
             }
            },
            "type": "histogram"
           }
          ],
          "histogram2d": [
           {
            "colorbar": {
             "outlinewidth": 0,
             "ticks": ""
            },
            "colorscale": [
             [
              0,
              "#0d0887"
             ],
             [
              0.1111111111111111,
              "#46039f"
             ],
             [
              0.2222222222222222,
              "#7201a8"
             ],
             [
              0.3333333333333333,
              "#9c179e"
             ],
             [
              0.4444444444444444,
              "#bd3786"
             ],
             [
              0.5555555555555556,
              "#d8576b"
             ],
             [
              0.6666666666666666,
              "#ed7953"
             ],
             [
              0.7777777777777778,
              "#fb9f3a"
             ],
             [
              0.8888888888888888,
              "#fdca26"
             ],
             [
              1,
              "#f0f921"
             ]
            ],
            "type": "histogram2d"
           }
          ],
          "histogram2dcontour": [
           {
            "colorbar": {
             "outlinewidth": 0,
             "ticks": ""
            },
            "colorscale": [
             [
              0,
              "#0d0887"
             ],
             [
              0.1111111111111111,
              "#46039f"
             ],
             [
              0.2222222222222222,
              "#7201a8"
             ],
             [
              0.3333333333333333,
              "#9c179e"
             ],
             [
              0.4444444444444444,
              "#bd3786"
             ],
             [
              0.5555555555555556,
              "#d8576b"
             ],
             [
              0.6666666666666666,
              "#ed7953"
             ],
             [
              0.7777777777777778,
              "#fb9f3a"
             ],
             [
              0.8888888888888888,
              "#fdca26"
             ],
             [
              1,
              "#f0f921"
             ]
            ],
            "type": "histogram2dcontour"
           }
          ],
          "mesh3d": [
           {
            "colorbar": {
             "outlinewidth": 0,
             "ticks": ""
            },
            "type": "mesh3d"
           }
          ],
          "parcoords": [
           {
            "line": {
             "colorbar": {
              "outlinewidth": 0,
              "ticks": ""
             }
            },
            "type": "parcoords"
           }
          ],
          "pie": [
           {
            "automargin": true,
            "type": "pie"
           }
          ],
          "scatter": [
           {
            "fillpattern": {
             "fillmode": "overlay",
             "size": 10,
             "solidity": 0.2
            },
            "type": "scatter"
           }
          ],
          "scatter3d": [
           {
            "line": {
             "colorbar": {
              "outlinewidth": 0,
              "ticks": ""
             }
            },
            "marker": {
             "colorbar": {
              "outlinewidth": 0,
              "ticks": ""
             }
            },
            "type": "scatter3d"
           }
          ],
          "scattercarpet": [
           {
            "marker": {
             "colorbar": {
              "outlinewidth": 0,
              "ticks": ""
             }
            },
            "type": "scattercarpet"
           }
          ],
          "scattergeo": [
           {
            "marker": {
             "colorbar": {
              "outlinewidth": 0,
              "ticks": ""
             }
            },
            "type": "scattergeo"
           }
          ],
          "scattergl": [
           {
            "marker": {
             "colorbar": {
              "outlinewidth": 0,
              "ticks": ""
             }
            },
            "type": "scattergl"
           }
          ],
          "scattermapbox": [
           {
            "marker": {
             "colorbar": {
              "outlinewidth": 0,
              "ticks": ""
             }
            },
            "type": "scattermapbox"
           }
          ],
          "scatterpolar": [
           {
            "marker": {
             "colorbar": {
              "outlinewidth": 0,
              "ticks": ""
             }
            },
            "type": "scatterpolar"
           }
          ],
          "scatterpolargl": [
           {
            "marker": {
             "colorbar": {
              "outlinewidth": 0,
              "ticks": ""
             }
            },
            "type": "scatterpolargl"
           }
          ],
          "scatterternary": [
           {
            "marker": {
             "colorbar": {
              "outlinewidth": 0,
              "ticks": ""
             }
            },
            "type": "scatterternary"
           }
          ],
          "surface": [
           {
            "colorbar": {
             "outlinewidth": 0,
             "ticks": ""
            },
            "colorscale": [
             [
              0,
              "#0d0887"
             ],
             [
              0.1111111111111111,
              "#46039f"
             ],
             [
              0.2222222222222222,
              "#7201a8"
             ],
             [
              0.3333333333333333,
              "#9c179e"
             ],
             [
              0.4444444444444444,
              "#bd3786"
             ],
             [
              0.5555555555555556,
              "#d8576b"
             ],
             [
              0.6666666666666666,
              "#ed7953"
             ],
             [
              0.7777777777777778,
              "#fb9f3a"
             ],
             [
              0.8888888888888888,
              "#fdca26"
             ],
             [
              1,
              "#f0f921"
             ]
            ],
            "type": "surface"
           }
          ],
          "table": [
           {
            "cells": {
             "fill": {
              "color": "#EBF0F8"
             },
             "line": {
              "color": "white"
             }
            },
            "header": {
             "fill": {
              "color": "#C8D4E3"
             },
             "line": {
              "color": "white"
             }
            },
            "type": "table"
           }
          ]
         },
         "layout": {
          "annotationdefaults": {
           "arrowcolor": "#2a3f5f",
           "arrowhead": 0,
           "arrowwidth": 1
          },
          "autotypenumbers": "strict",
          "coloraxis": {
           "colorbar": {
            "outlinewidth": 0,
            "ticks": ""
           }
          },
          "colorscale": {
           "diverging": [
            [
             0,
             "#8e0152"
            ],
            [
             0.1,
             "#c51b7d"
            ],
            [
             0.2,
             "#de77ae"
            ],
            [
             0.3,
             "#f1b6da"
            ],
            [
             0.4,
             "#fde0ef"
            ],
            [
             0.5,
             "#f7f7f7"
            ],
            [
             0.6,
             "#e6f5d0"
            ],
            [
             0.7,
             "#b8e186"
            ],
            [
             0.8,
             "#7fbc41"
            ],
            [
             0.9,
             "#4d9221"
            ],
            [
             1,
             "#276419"
            ]
           ],
           "sequential": [
            [
             0,
             "#0d0887"
            ],
            [
             0.1111111111111111,
             "#46039f"
            ],
            [
             0.2222222222222222,
             "#7201a8"
            ],
            [
             0.3333333333333333,
             "#9c179e"
            ],
            [
             0.4444444444444444,
             "#bd3786"
            ],
            [
             0.5555555555555556,
             "#d8576b"
            ],
            [
             0.6666666666666666,
             "#ed7953"
            ],
            [
             0.7777777777777778,
             "#fb9f3a"
            ],
            [
             0.8888888888888888,
             "#fdca26"
            ],
            [
             1,
             "#f0f921"
            ]
           ],
           "sequentialminus": [
            [
             0,
             "#0d0887"
            ],
            [
             0.1111111111111111,
             "#46039f"
            ],
            [
             0.2222222222222222,
             "#7201a8"
            ],
            [
             0.3333333333333333,
             "#9c179e"
            ],
            [
             0.4444444444444444,
             "#bd3786"
            ],
            [
             0.5555555555555556,
             "#d8576b"
            ],
            [
             0.6666666666666666,
             "#ed7953"
            ],
            [
             0.7777777777777778,
             "#fb9f3a"
            ],
            [
             0.8888888888888888,
             "#fdca26"
            ],
            [
             1,
             "#f0f921"
            ]
           ]
          },
          "colorway": [
           "#636efa",
           "#EF553B",
           "#00cc96",
           "#ab63fa",
           "#FFA15A",
           "#19d3f3",
           "#FF6692",
           "#B6E880",
           "#FF97FF",
           "#FECB52"
          ],
          "font": {
           "color": "#2a3f5f"
          },
          "geo": {
           "bgcolor": "white",
           "lakecolor": "white",
           "landcolor": "#E5ECF6",
           "showlakes": true,
           "showland": true,
           "subunitcolor": "white"
          },
          "hoverlabel": {
           "align": "left"
          },
          "hovermode": "closest",
          "mapbox": {
           "style": "light"
          },
          "paper_bgcolor": "white",
          "plot_bgcolor": "#E5ECF6",
          "polar": {
           "angularaxis": {
            "gridcolor": "white",
            "linecolor": "white",
            "ticks": ""
           },
           "bgcolor": "#E5ECF6",
           "radialaxis": {
            "gridcolor": "white",
            "linecolor": "white",
            "ticks": ""
           }
          },
          "scene": {
           "xaxis": {
            "backgroundcolor": "#E5ECF6",
            "gridcolor": "white",
            "gridwidth": 2,
            "linecolor": "white",
            "showbackground": true,
            "ticks": "",
            "zerolinecolor": "white"
           },
           "yaxis": {
            "backgroundcolor": "#E5ECF6",
            "gridcolor": "white",
            "gridwidth": 2,
            "linecolor": "white",
            "showbackground": true,
            "ticks": "",
            "zerolinecolor": "white"
           },
           "zaxis": {
            "backgroundcolor": "#E5ECF6",
            "gridcolor": "white",
            "gridwidth": 2,
            "linecolor": "white",
            "showbackground": true,
            "ticks": "",
            "zerolinecolor": "white"
           }
          },
          "shapedefaults": {
           "line": {
            "color": "#2a3f5f"
           }
          },
          "ternary": {
           "aaxis": {
            "gridcolor": "white",
            "linecolor": "white",
            "ticks": ""
           },
           "baxis": {
            "gridcolor": "white",
            "linecolor": "white",
            "ticks": ""
           },
           "bgcolor": "#E5ECF6",
           "caxis": {
            "gridcolor": "white",
            "linecolor": "white",
            "ticks": ""
           }
          },
          "title": {
           "x": 0.05
          },
          "xaxis": {
           "automargin": true,
           "gridcolor": "white",
           "linecolor": "white",
           "ticks": "",
           "title": {
            "standoff": 15
           },
           "zerolinecolor": "white",
           "zerolinewidth": 2
          },
          "yaxis": {
           "automargin": true,
           "gridcolor": "white",
           "linecolor": "white",
           "ticks": "",
           "title": {
            "standoff": 15
           },
           "zerolinecolor": "white",
           "zerolinewidth": 2
          }
         }
        },
        "title": {
         "text": "NVDA: Stock Price and Combined Trading Signal (Last Month)"
        },
        "xaxis": {
         "gridcolor": "gray",
         "gridwidth": 0.5,
         "title": {
          "text": "Date"
         }
        },
        "yaxis": {
         "gridcolor": "gray",
         "gridwidth": 0.5,
         "side": "left",
         "title": {
          "text": "Price"
         }
        },
        "yaxis2": {
         "overlaying": "y",
         "showgrid": false,
         "side": "right",
         "title": {
          "text": "Combined Signal"
         }
        }
       }
      }
     },
     "metadata": {},
     "output_type": "display_data"
    }
   ],
   "source": [
    "# Stock Price and Combined Trading Signal (Last Month)\n",
    "\n",
    "df_last_days = df.tail(20)  \n",
    "\n",
    "\n",
    "plot_combined_signals(df_last_days)\n",
    "\n",
    "# Write the figure to an HTML file\n",
    "# fig.write_html(ticker+\"_interactive_plot.html\")"
   ]
  },
  {
   "cell_type": "code",
   "execution_count": 144,
   "metadata": {},
   "outputs": [
    {
     "data": {
      "image/png": "[encoded data removed]",
      "text/plain": [
       "<Figure size 2500x500 with 2 Axes>"
      ]
     },
     "metadata": {},
     "output_type": "display_data"
    }
   ],
   "source": [
    "# Compare short term and long term signals\n",
    "\n",
    "df_term = calculate_short_term_indicators(df)\n",
    "\n",
    "compare_signals(df_term.tail(10))\n"
   ]
  }
 ],
 "metadata": {
  "kernelspec": {
   "display_name": "base",
   "language": "python",
   "name": "python3"
  },
  "language_info": {
   "codemirror_mode": {
    "name": "ipython",
    "version": 3
   },
   "file_extension": ".py",
   "mimetype": "text/x-python",
   "name": "python",
   "nbconvert_exporter": "python",
   "pygments_lexer": "ipython3",
   "version": "3.10.12"
  }
 },
 "nbformat": 4,
 "nbformat_minor": 2
}
